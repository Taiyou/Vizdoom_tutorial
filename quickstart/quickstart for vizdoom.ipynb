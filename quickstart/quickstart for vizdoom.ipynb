{
 "cells": [
  {
   "cell_type": "code",
   "execution_count": 1,
   "metadata": {},
   "outputs": [],
   "source": [
    "from __future__ import print_function\n",
    "import vizdoom as vzd\n",
    "\n",
    "from random import choice\n",
    "from time import sleep"
   ]
  },
  {
   "cell_type": "code",
   "execution_count": null,
   "metadata": {},
   "outputs": [
    {
     "name": "stdout",
     "output_type": "stream",
     "text": [
      "Episode #1\n"
     ]
    }
   ],
   "source": [
    "# Create DoomGame instance. It will run the game and communicate with you.\n",
    "game = vzd.DoomGame()\n",
    "\n",
    "# Now it's time for configuration!\n",
    "# load_config could be used to load configuration instead of doing it here with code.\n",
    "# If load_config is used in-code configuration will also work - most recent changes will add to previous ones.\n",
    "# game.load_config(\"../../scenarios/basic.cfg\")\n",
    "game.load_config(\"basic.cfg\")\n",
    "\n",
    "# Sets path to additional resources wad file which is basically your scenario wad.\n",
    "# If not specified default maps will be used and it's pretty much useless... unless you want to play good old Doom.\n",
    "#game.set_doom_scenario_path(\"../../scenarios/basic.wad\")\n",
    "\n",
    "# Sets map to start (scenario .wad files can contain many maps).\n",
    "# 32 maps exist\n",
    "game.set_doom_map(\"map01\")\n",
    "\n",
    "# Initialize the game. Further configuration won't take any effect from now on.\n",
    "game.init()\n",
    "\n",
    "# Define some actions. Each list entry corresponds to declared buttons:\n",
    "# MOVE_LEFT, MOVE_RIGHT, ATTACK\n",
    "# game.get_available_buttons_size() can be used to check the number of available buttons.\n",
    "# 5 more combinations are naturally possible but only 3 are included for transparency when watching.\n",
    "actions = [[True, False, False], [False, True, False], [False, False, True]]\n",
    "\n",
    "# Run this many episodes\n",
    "episodes = 5\n",
    "\n",
    "# Sets time that will pause the engine after each action (in seconds)\n",
    "# Without this everything would go too fast for you to keep track of what's happening.\n",
    "sleep_time = 1.0 / vzd.DEFAULT_TICRATE  # = 0.028\n",
    "\n",
    "for i in range(episodes):\n",
    "    print(\"Episode #\" + str(i + 1))\n",
    "\n",
    "    # Starts a new episode. It is not needed right after init() but it doesn't cost much. At least the loop is nicer.\n",
    "    game.new_episode()\n",
    "\n",
    "    while not game.is_episode_finished():\n",
    "        # Gets the state\n",
    "        state = game.get_state()\n",
    "            \n",
    "        # Which consists of:\n",
    "        n = state.number\n",
    "        vars = state.game_variables\n",
    "        screen_buf = state.screen_buffer\n",
    "        depth_buf = state.depth_buffer\n",
    "        labels_buf = state.labels_buffer\n",
    "        automap_buf = state.automap_buffer\n",
    "        labels = state.labels\n",
    "        objects = state.objects\n",
    "        sectors = state.sectors\n",
    "\n",
    "        # Makes a random action and get remember reward.\n",
    "        r = game.make_action(choice(actions))\n",
    "\n",
    "        # Prints state's game variables and reward.\n",
    "\n",
    "        if sleep_time > 0:\n",
    "            sleep(sleep_time)\n",
    "\n",
    "    # Check how the episode went.\n",
    "    print(\"Episode finished.\")\n",
    "    print(\"Total reward:\", game.get_total_reward())\n",
    "    print(\"************************\")\n",
    "\n",
    "# It will be done automatically anyway but sometimes you need to do it in the middle of the program...\n",
    "game.close()"
   ]
  },
  {
   "cell_type": "code",
   "execution_count": null,
   "metadata": {},
   "outputs": [],
   "source": []
  },
  {
   "cell_type": "code",
   "execution_count": null,
   "metadata": {},
   "outputs": [],
   "source": []
  },
  {
   "cell_type": "code",
   "execution_count": null,
   "metadata": {},
   "outputs": [],
   "source": []
  }
 ],
 "metadata": {
  "kernelspec": {
   "display_name": "Python 3",
   "language": "python",
   "name": "python3"
  },
  "language_info": {
   "codemirror_mode": {
    "name": "ipython",
    "version": 3
   },
   "file_extension": ".py",
   "mimetype": "text/x-python",
   "name": "python",
   "nbconvert_exporter": "python",
   "pygments_lexer": "ipython3",
   "version": "3.7.3"
  }
 },
 "nbformat": 4,
 "nbformat_minor": 2
}
